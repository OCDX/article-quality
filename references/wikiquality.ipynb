{
 "cells": [
  {
   "cell_type": "code",
   "execution_count": 1,
   "metadata": {
    "collapsed": false
   },
   "outputs": [],
   "source": [
    "# !pip install mysqltsv"
   ]
  },
  {
   "cell_type": "code",
   "execution_count": 64,
   "metadata": {
    "collapsed": true
   },
   "outputs": [],
   "source": [
    "import requests, csv, bz2, logging\n",
    "\n",
    "AQ_URLS = {\n",
    "    'en': \"https://ndownloader.figshare.com/files/6059502\",\n",
    "    'fr': \"https://ndownloader.figshare.com/files/6217656\",\n",
    "    'ru': \"https://ndownloader.figshare.com/files/6437268\"\n",
    "}\n",
    "\n",
    "def decompress_read_rows(f):\n",
    "    decompressed = bz2.open(f, mode=\"rt\")\n",
    "    rows = csv.DictReader(decompressed, delimiter=\"\\t\", quoting=csv.QUOTE_NONE)\n",
    "    # {'weighted_sum': '0.10413085831157592', 'title': 'Lost Moon', 'timestamp': '20051201000000', 'prediction': 'Stub', 'page_id': '3204489', 'rev_id': '28847753'}\n",
    "    for row in rows:\n",
    "        row['weighted_sum'] = float(row['weighted_sum'])\n",
    "        row['page_id'] = int(row['page_id'])\n",
    "        row['rev_id'] = int(row['rev_id'])\n",
    "        yield row\n",
    "\n",
    "def read_aq(lang):\n",
    "    if lang not in AQ_URLS:\n",
    "        raise RuntimeError(\"Data for {0} not available, try {1}\"\n",
    "                           .format(lang, tuple(AQ_URLS.keys())))\n",
    "    else:\n",
    "        url = AQ_URLS[lang]\n",
    "    response = requests.get(url, stream=True)\n",
    "    return decompress_read_rows(response.raw)\n",
    "\n",
    "read_rows = read_aq"
   ]
  },
  {
   "cell_type": "code",
   "execution_count": 65,
   "metadata": {
    "collapsed": false
   },
   "outputs": [],
   "source": [
    "import json\n",
    "\n",
    "PAGE_ID_URLS = {\n",
    "    'women scientists': \"https://quarry.wmflabs.org/run/125781/output/0/json-lines?download=true\"\n",
    "}\n",
    "\n",
    "def read_page_ids(group):\n",
    "    if group not in PAGE_ID_URLS:\n",
    "        raise RuntimeError(\"Data for {0} not available, try {1}\"\n",
    "                           .format(group, tuple(PAGE_ID_URLS.keys())))\n",
    "    else:\n",
    "        url = PAGE_ID_URLS[group]\n",
    "    response = requests.get(url, stream=True)\n",
    "    for line in response.iter_lines():\n",
    "        yield json.loads(str(line, 'utf-8'))\n",
    "    "
   ]
  },
  {
   "cell_type": "code",
   "execution_count": 68,
   "metadata": {
    "collapsed": false
   },
   "outputs": [],
   "source": [
    "# print(next(read_aq('en')))"
   ]
  },
  {
   "cell_type": "code",
   "execution_count": null,
   "metadata": {
    "collapsed": false
   },
   "outputs": [],
   "source": []
  },
  {
   "cell_type": "code",
   "execution_count": null,
   "metadata": {
    "collapsed": true
   },
   "outputs": [],
   "source": []
  }
 ],
 "metadata": {
  "kernelspec": {
   "display_name": "Python 3",
   "language": "python",
   "name": "python3"
  },
  "language_info": {
   "codemirror_mode": {
    "name": "ipython",
    "version": 3
   },
   "file_extension": ".py",
   "mimetype": "text/x-python",
   "name": "python",
   "nbconvert_exporter": "python",
   "pygments_lexer": "ipython3",
   "version": "3.4.2"
  }
 },
 "nbformat": 4,
 "nbformat_minor": 1
}
