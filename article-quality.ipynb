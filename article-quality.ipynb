{
 "cells": [
  {
   "cell_type": "code",
   "execution_count": 1,
   "metadata": {
    "collapsed": false
   },
   "outputs": [],
   "source": [
    "# pull in quality data from Wikimedia\n",
    "from paws.EpochFail import wikiquality as wq"
   ]
  },
  {
   "cell_type": "code",
   "execution_count": 2,
   "metadata": {
    "collapsed": false
   },
   "outputs": [],
   "source": [
    "def page_quality(page_id_set):\n",
    "    page_by_month = {} \n",
    "    for i in wq.read_aq('en'):\n",
    "        if i['page_id'] in page_id_set:\n",
    "            if i['page_id'] not in page_by_month:\n",
    "                page_by_month[i['page_id']] = {}\n",
    "            time = i['timestamp']\n",
    "            new_val = dict(i)\n",
    "            del new_val['timestamp']\n",
    "            del new_val['page_id']\n",
    "            page_by_month[i['page_id']][time] = new_val\n",
    "        if len(page_by_month) > 3: #to allow us to check code without running through all 400mil lines of wq.real_aq('en')\n",
    "            break\n",
    "    return page_by_month\n",
    "                \n",
    "def get_page_ids(category, file_name):\n",
    "    page_id_set = set()\n",
    "    generator = wq.read_page_ids(category)\n",
    "    for page in generator:\n",
    "        page_id_set.add(page['page_id'])\n",
    "    with open(file_name, 'w') as f:\n",
    "        for page_id in page_id_set:\n",
    "            f.write(str(page_id) + '\\n')\n",
    "    return page_id_set\n",
    "\n",
    "import json\n",
    "def save_to_disk(category_quality_dict, file_name):\n",
    "    with open(file_name,'w') as f:\n",
    "        json.dump(category_quality_dict,f)\n",
    "    "
   ]
  },
  {
   "cell_type": "code",
   "execution_count": 5,
   "metadata": {
    "collapsed": false
   },
   "outputs": [],
   "source": [
    "#women_scientists = get_page_ids('women scientists', 'data.txt')\n",
    "women_scientists = wq.read_page_ids('women scientists')"
   ]
  },
  {
   "cell_type": "code",
   "execution_count": null,
   "metadata": {
    "collapsed": false
   },
   "outputs": [],
   "source": [
    "women_scientists_quality = page_quality(women_scientists)"
   ]
  },
  {
   "cell_type": "code",
   "execution_count": 103,
   "metadata": {
    "collapsed": true
   },
   "outputs": [],
   "source": [
    "save_to_disk(women_scientists_quality, 'data/women_scientist_quality.json')"
   ]
  },
  {
   "cell_type": "code",
   "execution_count": null,
   "metadata": {
    "collapsed": true
   },
   "outputs": [],
   "source": []
  }
 ],
 "metadata": {
  "kernelspec": {
   "display_name": "Python 3",
   "language": "python",
   "name": "python3"
  },
  "language_info": {
   "codemirror_mode": {
    "name": "ipython",
    "version": 3
   },
   "file_extension": ".py",
   "mimetype": "text/x-python",
   "name": "python",
   "nbconvert_exporter": "python",
   "pygments_lexer": "ipython3",
   "version": "3.4.3"
  }
 },
 "nbformat": 4,
 "nbformat_minor": 1
}
