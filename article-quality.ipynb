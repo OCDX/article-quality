{
 "cells": [
  {
   "cell_type": "code",
   "execution_count": 1,
   "metadata": {
    "collapsed": false
   },
   "outputs": [],
   "source": [
    "# pull in quality data from Wikimedia\n",
    "from paws.EpochFail import wikiquality as wq"
   ]
  },
  {
   "cell_type": "code",
   "execution_count": 2,
   "metadata": {
    "collapsed": false
   },
   "outputs": [
    {
     "name": "stdout",
     "output_type": "stream",
     "text": [
      "{'weighted_sum': 0.10413085831157592, 'timestamp': '20051201000000', 'rev_id': 28847753, 'prediction': 'Stub', 'title': 'Lost Moon', 'page_id': 3204489}\n"
     ]
    }
   ],
   "source": [
    "# check to make sure we got what we expected\n",
    "print(next(wq.read_rows('en')))"
   ]
  },
  {
   "cell_type": "code",
   "execution_count": 3,
   "metadata": {
    "collapsed": true
   },
   "outputs": [],
   "source": [
    "# here's what those 'predicted' values mean: \n",
    "# https://meta.wikimedia.org/wiki/Objective_Revision_Evaluation_Service#Article_quality_models\n"
   ]
  },
  {
   "cell_type": "code",
   "execution_count": 4,
   "metadata": {
    "collapsed": false
   },
   "outputs": [
    {
     "name": "stdout",
     "output_type": "stream",
     "text": [
      "{'page_id': 9622178}\n"
     ]
    }
   ],
   "source": [
    "# look for the women scientists\n",
    "print(next(wq.read_page_ids('women scientists')))"
   ]
  },
  {
   "cell_type": "code",
   "execution_count": null,
   "metadata": {
    "collapsed": true
   },
   "outputs": [],
   "source": []
  }
 ],
 "metadata": {
  "kernelspec": {
   "display_name": "Python 3",
   "language": "python",
   "name": "python3"
  },
  "language_info": {
   "codemirror_mode": {
    "name": "ipython",
    "version": 3
   },
   "file_extension": ".py",
   "mimetype": "text/x-python",
   "name": "python",
   "nbconvert_exporter": "python",
   "pygments_lexer": "ipython3",
   "version": "3.4.3"
  }
 },
 "nbformat": 4,
 "nbformat_minor": 1
}
