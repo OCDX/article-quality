{
 "cells": [
  {
   "cell_type": "code",
   "execution_count": 1,
   "metadata": {
    "collapsed": false
   },
   "outputs": [],
   "source": [
    "# pull in quality data from Wikimedia\n",
    "from paws.EpochFail import wikiquality as wq"
   ]
  },
  {
   "cell_type": "code",
   "execution_count": 2,
   "metadata": {
    "collapsed": false
   },
   "outputs": [
    {
     "name": "stdout",
     "output_type": "stream",
     "text": [
      "{'weighted_sum': 0.10413085831157592, 'title': 'Lost Moon', 'timestamp': '20051201000000', 'rev_id': 28847753, 'prediction': 'Stub', 'page_id': 3204489}\n"
     ]
    }
   ],
   "source": [
    "# check to make sure we got what we expected\n",
    "print(next(wq.read_rows('en')))"
   ]
  },
  {
   "cell_type": "code",
   "execution_count": 3,
   "metadata": {
    "collapsed": true
   },
   "outputs": [],
   "source": [
    "# here's what those 'predicted' values mean: \n",
    "# https://meta.wikimedia.org/wiki/Objective_Revision_Evaluation_Service#Article_quality_models\n"
   ]
  },
  {
   "cell_type": "code",
   "execution_count": 9,
   "metadata": {
    "collapsed": false
   },
   "outputs": [
    {
     "name": "stdout",
     "output_type": "stream",
     "text": [
      "{'page_id': 9622178}\n"
     ]
    }
   ],
   "source": [
    "# look for the women scientists\n",
    "print(next(wq.read_page_ids('women scientists')))"
   ]
  },
  {
   "cell_type": "code",
   "execution_count": 32,
   "metadata": {
    "collapsed": false
   },
   "outputs": [
    {
     "ename": "UnsupportedOperation",
     "evalue": "not writable",
     "output_type": "error",
     "traceback": [
      "\u001b[1;31m---------------------------------------------------------------------------\u001b[0m",
      "\u001b[1;31mUnsupportedOperation\u001b[0m                      Traceback (most recent call last)",
      "\u001b[1;32m<ipython-input-32-e1d8cae34f80>\u001b[0m in \u001b[0;36m<module>\u001b[1;34m()\u001b[0m\n\u001b[0;32m      2\u001b[0m \u001b[0mf\u001b[0m \u001b[1;33m=\u001b[0m \u001b[0mopen\u001b[0m\u001b[1;33m(\u001b[0m\u001b[1;34m'data.txt'\u001b[0m\u001b[1;33m)\u001b[0m\u001b[1;33m\u001b[0m\u001b[0m\n\u001b[0;32m      3\u001b[0m \u001b[1;32mfor\u001b[0m \u001b[0mi\u001b[0m \u001b[1;32min\u001b[0m\u001b[1;33m(\u001b[0m\u001b[0mwq\u001b[0m\u001b[1;33m.\u001b[0m\u001b[0mread_page_ids\u001b[0m\u001b[1;33m(\u001b[0m\u001b[1;34m'women scientists'\u001b[0m\u001b[1;33m)\u001b[0m\u001b[1;33m)\u001b[0m\u001b[1;33m:\u001b[0m\u001b[1;33m\u001b[0m\u001b[0m\n\u001b[1;32m----> 4\u001b[1;33m     \u001b[0mf\u001b[0m\u001b[1;33m.\u001b[0m\u001b[0mwrite\u001b[0m\u001b[1;33m(\u001b[0m\u001b[0mstr\u001b[0m\u001b[1;33m(\u001b[0m\u001b[0mi\u001b[0m\u001b[1;33m[\u001b[0m\u001b[1;34m'page_id'\u001b[0m\u001b[1;33m]\u001b[0m\u001b[1;33m)\u001b[0m\u001b[1;33m)\u001b[0m\u001b[1;33m\u001b[0m\u001b[0m\n\u001b[0m",
      "\u001b[1;31mUnsupportedOperation\u001b[0m: not writable"
     ]
    }
   ],
   "source": [
    "import json\n",
    "f = open('data.txt')\n",
    "for i in(wq.read_page_ids('women scientists')):\n",
    "    f.write(str(i['page_id']))"
   ]
  },
  {
   "cell_type": "code",
   "execution_count": null,
   "metadata": {
    "collapsed": true
   },
   "outputs": [],
   "source": [
    "import sys\n",
    "from pprint import pprint\n",
    "from math import log, exp\n",
    "from collections import defaultdict\n",
    "\n",
    "from paws.EpochFail import wikiquality\n",
    "\n",
    "women_scientists = set(r['page_id'] for r in wikiquality.read_page_ids('women scientists'))\n",
    "\n",
    "ws_wiki_quality = {}\n",
    "\n",
    "women_scientist_aq = (row for row in wikiquality.read_aq('en') if row['page_id'] in women_scientists)\n",
    "\n",
    "for i, row in enumerate(women_scientist_aq):\n",
    "    if row['timestamp'] not in monthly_wiki_quality:\n",
    "        monthly_wiki_quality[row['timestamp']] = {\n",
    "            'weighted_sum': 0.0, \n",
    "            'weighted_log_sum': 0.0, \n",
    "            'n': 0, \n",
    "            'predictions': defaultdict(int)\n",
    "        }\n",
    "    monthly_wiki_quality[row['timestamp']]['n'] += 1\n",
    "    monthly_wiki_quality[row['timestamp']]['weighted_sum'] += row['weighted_sum']\n",
    "    monthly_wiki_quality[row['timestamp']]['weighted_log_sum'] += log(row['weighted_sum'])\n",
    "    monthly_wiki_quality[row['timestamp']]['predictions'][row['prediction']] += 1\n",
    "    if i % 10 == 0:\n",
    "        sys.stderr.write(\".\")\n",
    "    if i != 0 and i % 10**3 == 0:\n",
    "        sys.stderr.write(\"\\n\")"
   ]
  },
  {
   "cell_type": "code",
   "execution_count": 71,
   "metadata": {
    "collapsed": false
   },
   "outputs": [],
   "source": [
    "def pageQual(page_id_set):\n",
    "    import sys\n",
    "    from pprint import pprint\n",
    "    from math import log, exp\n",
    "    from collections import defaultdict\n",
    "\n",
    "    from paws.EpochFail import wikiquality as wq\n",
    "    pageByMonth = {} \n",
    "    while len(pageByMonth) < 3:\n",
    "        for i in wq.read_aq('en'):\n",
    "            if i['page_id'] in page_id_set:\n",
    "                if i['page_id'] not in pageByMonth:\n",
    "                    pageByMonth[i['page_id']] = {}\n",
    "                time = i['timestamp']\n",
    "                newVal = dict(i)\n",
    "                del newVal['timestamp']\n",
    "                del newVal['page_id']\n",
    "                pageByMonth[i['page_id']][time] = newVal\n",
    "            \n",
    "    return pageByMonth\n",
    "                \n",
    "def getPageIDs(category, file_name):\n",
    "    page_id_set = set()\n",
    "    generator = wq.read_page_ids(category)\n",
    "    for page in generator:\n",
    "        page_id_set.add(page['page_id'])\n",
    "    with open(file_name, 'w') as f:\n",
    "        for page_id in page_id_set:\n",
    "            f.write(str(page_id) + '\\n')\n",
    "    return page_id_set"
   ]
  },
  {
   "cell_type": "code",
   "execution_count": 61,
   "metadata": {
    "collapsed": false
   },
   "outputs": [],
   "source": [
    "women_scientists = getPageIDs('women scientists', 'data.txt')"
   ]
  },
  {
   "cell_type": "code",
   "execution_count": 72,
   "metadata": {
    "collapsed": false
   },
   "outputs": [
    {
     "ename": "KeyboardInterrupt",
     "evalue": "",
     "output_type": "error",
     "traceback": [
      "\u001b[1;31m---------------------------------------------------------------------------\u001b[0m",
      "\u001b[1;31mKeyboardInterrupt\u001b[0m                         Traceback (most recent call last)",
      "\u001b[1;32m<ipython-input-72-ae6ff827f537>\u001b[0m in \u001b[0;36m<module>\u001b[1;34m()\u001b[0m\n\u001b[1;32m----> 1\u001b[1;33m \u001b[0mpageQual\u001b[0m\u001b[1;33m(\u001b[0m\u001b[0mwomen_scientists\u001b[0m\u001b[1;33m)\u001b[0m\u001b[1;33m\u001b[0m\u001b[0m\n\u001b[0m",
      "\u001b[1;32m<ipython-input-71-a51f3891880a>\u001b[0m in \u001b[0;36mpageQual\u001b[1;34m(page_id_set)\u001b[0m\n\u001b[0;32m      7\u001b[0m     \u001b[1;32mfrom\u001b[0m \u001b[0mpaws\u001b[0m\u001b[1;33m.\u001b[0m\u001b[0mEpochFail\u001b[0m \u001b[1;32mimport\u001b[0m \u001b[0mwikiquality\u001b[0m \u001b[1;32mas\u001b[0m \u001b[0mwq\u001b[0m\u001b[1;33m\u001b[0m\u001b[0m\n\u001b[0;32m      8\u001b[0m     \u001b[0mpageByMonth\u001b[0m \u001b[1;33m=\u001b[0m \u001b[1;33m{\u001b[0m\u001b[1;33m}\u001b[0m\u001b[1;33m\u001b[0m\u001b[0m\n\u001b[1;32m----> 9\u001b[1;33m     \u001b[1;32mfor\u001b[0m \u001b[0mi\u001b[0m \u001b[1;32min\u001b[0m \u001b[0mwq\u001b[0m\u001b[1;33m.\u001b[0m\u001b[0mread_aq\u001b[0m\u001b[1;33m(\u001b[0m\u001b[1;34m'en'\u001b[0m\u001b[1;33m)\u001b[0m\u001b[1;33m:\u001b[0m\u001b[1;33m\u001b[0m\u001b[0m\n\u001b[0m\u001b[0;32m     10\u001b[0m         \u001b[1;32mif\u001b[0m \u001b[0mi\u001b[0m\u001b[1;33m[\u001b[0m\u001b[1;34m'page_id'\u001b[0m\u001b[1;33m]\u001b[0m \u001b[1;32min\u001b[0m \u001b[0mpage_id_set\u001b[0m\u001b[1;33m:\u001b[0m\u001b[1;33m\u001b[0m\u001b[0m\n\u001b[0;32m     11\u001b[0m             \u001b[1;32mif\u001b[0m \u001b[0mi\u001b[0m\u001b[1;33m[\u001b[0m\u001b[1;34m'page_id'\u001b[0m\u001b[1;33m]\u001b[0m \u001b[1;32mnot\u001b[0m \u001b[1;32min\u001b[0m \u001b[0mpageByMonth\u001b[0m\u001b[1;33m:\u001b[0m\u001b[1;33m\u001b[0m\u001b[0m\n",
      "\u001b[1;32mpaws.EpochFail.wikiquality\u001b[0m in \u001b[0;36mdecompress_read_rows\u001b[1;34m(f)\u001b[0m\n",
      "\u001b[1;32m/usr/lib64/python3.4/csv.py\u001b[0m in \u001b[0;36m__next__\u001b[1;34m(self)\u001b[0m\n\u001b[0;32m    116\u001b[0m         \u001b[1;32mwhile\u001b[0m \u001b[0mrow\u001b[0m \u001b[1;33m==\u001b[0m \u001b[1;33m[\u001b[0m\u001b[1;33m]\u001b[0m\u001b[1;33m:\u001b[0m\u001b[1;33m\u001b[0m\u001b[0m\n\u001b[0;32m    117\u001b[0m             \u001b[0mrow\u001b[0m \u001b[1;33m=\u001b[0m \u001b[0mnext\u001b[0m\u001b[1;33m(\u001b[0m\u001b[0mself\u001b[0m\u001b[1;33m.\u001b[0m\u001b[0mreader\u001b[0m\u001b[1;33m)\u001b[0m\u001b[1;33m\u001b[0m\u001b[0m\n\u001b[1;32m--> 118\u001b[1;33m         \u001b[0md\u001b[0m \u001b[1;33m=\u001b[0m \u001b[0mdict\u001b[0m\u001b[1;33m(\u001b[0m\u001b[0mzip\u001b[0m\u001b[1;33m(\u001b[0m\u001b[0mself\u001b[0m\u001b[1;33m.\u001b[0m\u001b[0mfieldnames\u001b[0m\u001b[1;33m,\u001b[0m \u001b[0mrow\u001b[0m\u001b[1;33m)\u001b[0m\u001b[1;33m)\u001b[0m\u001b[1;33m\u001b[0m\u001b[0m\n\u001b[0m\u001b[0;32m    119\u001b[0m         \u001b[0mlf\u001b[0m \u001b[1;33m=\u001b[0m \u001b[0mlen\u001b[0m\u001b[1;33m(\u001b[0m\u001b[0mself\u001b[0m\u001b[1;33m.\u001b[0m\u001b[0mfieldnames\u001b[0m\u001b[1;33m)\u001b[0m\u001b[1;33m\u001b[0m\u001b[0m\n\u001b[0;32m    120\u001b[0m         \u001b[0mlr\u001b[0m \u001b[1;33m=\u001b[0m \u001b[0mlen\u001b[0m\u001b[1;33m(\u001b[0m\u001b[0mrow\u001b[0m\u001b[1;33m)\u001b[0m\u001b[1;33m\u001b[0m\u001b[0m\n",
      "\u001b[1;31mKeyboardInterrupt\u001b[0m: "
     ]
    }
   ],
   "source": [
    "pageQual(women_scientists)"
   ]
  },
  {
   "cell_type": "code",
   "execution_count": null,
   "metadata": {
    "collapsed": true
   },
   "outputs": [],
   "source": []
  }
 ],
 "metadata": {
  "kernelspec": {
   "display_name": "Python 3",
   "language": "python",
   "name": "python3"
  },
  "language_info": {
   "codemirror_mode": {
    "name": "ipython",
    "version": 3
   },
   "file_extension": ".py",
   "mimetype": "text/x-python",
   "name": "python",
   "nbconvert_exporter": "python",
   "pygments_lexer": "ipython3",
   "version": "3.4.3"
  }
 },
 "nbformat": 4,
 "nbformat_minor": 1
}
