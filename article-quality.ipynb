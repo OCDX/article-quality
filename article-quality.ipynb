{
 "cells": [
  {
   "cell_type": "code",
   "execution_count": 2,
   "metadata": {
    "collapsed": false
   },
   "outputs": [],
   "source": [
    "# pull in quality data from Wikimedia\n",
    "from paws.EpochFail import wikiquality as wq"
   ]
  },
  {
   "cell_type": "code",
   "execution_count": 3,
   "metadata": {
    "collapsed": false
   },
   "outputs": [
    {
     "name": "stdout",
     "output_type": "stream",
     "text": [
      "{'title': 'Lost Moon', 'prediction': 'Stub', 'weighted_sum': 0.10413085831157592, 'page_id': 3204489, 'timestamp': '20051201000000', 'rev_id': 28847753}\n"
     ]
    }
   ],
   "source": [
    "# check to make sure we got what we expected\n",
    "print(next(wq.read_rows('en')))"
   ]
  },
  {
   "cell_type": "code",
   "execution_count": 4,
   "metadata": {
    "collapsed": true
   },
   "outputs": [],
   "source": [
    "# here's what those 'predicted' values mean: \n",
    "# https://meta.wikimedia.org/wiki/Objective_Revision_Evaluation_Service#Article_quality_models\n"
   ]
  },
  {
   "cell_type": "code",
   "execution_count": 5,
   "metadata": {
    "collapsed": false
   },
   "outputs": [
    {
     "name": "stdout",
     "output_type": "stream",
     "text": [
      "{'page_id': 9622178}\n"
     ]
    }
   ],
   "source": [
    "# look for the women scientists\n",
    "print(next(wq.read_page_ids('women scientists')))"
   ]
  },
  {
   "cell_type": "code",
   "execution_count": 6,
   "metadata": {
    "collapsed": false
   },
   "outputs": [],
   "source": [
    "women_scientists = set()"
   ]
  },
  {
   "cell_type": "code",
   "execution_count": 7,
   "metadata": {
    "collapsed": false
   },
   "outputs": [],
   "source": [
    "generator = wq.read_page_ids('women scientists')\n",
    "\n",
    "for page in generator:\n",
    "        women_scientists.add(page['page_id'])"
   ]
  },
  {
   "cell_type": "code",
   "execution_count": 9,
   "metadata": {
    "collapsed": false
   },
   "outputs": [],
   "source": [
    "with open('women_scientist_pageids.txt', 'w') as f:\n",
    "    for p in women_scientists:\n",
    "        f.write(str(p) + '\\n')"
   ]
  },
  {
   "cell_type": "code",
   "execution_count": 10,
   "metadata": {
    "collapsed": false
   },
   "outputs": [
    {
     "name": "stdout",
     "output_type": "stream",
     "text": [
      "{'title': 'Lost Moon', 'prediction': 'Stub', 'weighted_sum': 0.10413085831157592, 'page_id': 3204489, 'timestamp': '20051201000000', 'rev_id': 28847753}\n"
     ]
    }
   ],
   "source": [
    "print(next(wq.read_aq('en')))"
   ]
  },
  {
   "cell_type": "code",
   "execution_count": 11,
   "metadata": {
    "collapsed": true
   },
   "outputs": [],
   "source": [
    "monthly_wiki_quality = {}\n",
    "\n",
    "women_scientist_aq = (row for row in wq.read_aq('en') if row['page_id'] in women_scientists)"
   ]
  },
  {
   "cell_type": "code",
   "execution_count": 12,
   "metadata": {
    "collapsed": false
   },
   "outputs": [
    {
     "data": {
      "text/plain": [
       "<generator object <genexpr> at 0x7fddac2cf900>"
      ]
     },
     "execution_count": 12,
     "metadata": {},
     "output_type": "execute_result"
    }
   ],
   "source": [
    "women_scientist_aq"
   ]
  },
  {
   "cell_type": "code",
   "execution_count": null,
   "metadata": {
    "collapsed": true
   },
   "outputs": [],
   "source": [
    "for i, row in enumerate(women_scientist_aq):\n",
    "    if row['timestamp'] not in monthly_wiki_quality:\n",
    "        monthly_wiki_quality[row['timestamp']] = {\n",
    "            'weighted_sum': 0.0, \n",
    "            'weighted_log_sum': 0.0, \n",
    "            'n': 0, \n",
    "            'predictions': defaultdict(int)\n",
    "        }\n",
    "    monthly_wiki_quality[row['timestamp']]['n'] += 1\n",
    "    monthly_wiki_quality[row['timestamp']]['weighted_sum'] += row['weighted_sum']\n",
    "    monthly_wiki_quality[row['timestamp']]['weighted_log_sum'] += log(row['weighted_sum'])\n",
    "    monthly_wiki_quality[row['timestamp']]['predictions'][row['prediction']] += 1\n",
    "    if i % 10 == 0:\n",
    "        sys.stderr.write(\".\")\n",
    "    if i != 0 and i % 10**3 == 0:\n",
    "        sys.stderr.write(\"\\n\")"
   ]
  }
 ],
 "metadata": {
  "kernelspec": {
   "display_name": "Python 3",
   "language": "python",
   "name": "python3"
  },
  "language_info": {
   "codemirror_mode": {
    "name": "ipython",
    "version": 3
   },
   "file_extension": ".py",
   "mimetype": "text/x-python",
   "name": "python",
   "nbconvert_exporter": "python",
   "pygments_lexer": "ipython3",
   "version": "3.4.3"
  }
 },
 "nbformat": 4,
 "nbformat_minor": 1
}
