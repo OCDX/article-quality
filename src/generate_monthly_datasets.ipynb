{
 "cells": [
  {
   "cell_type": "code",
   "execution_count": 1,
   "metadata": {
    "collapsed": false
   },
   "outputs": [
    {
     "name": "stdout",
     "output_type": "stream",
     "text": [
      "Collecting git+https://github.com/ipython/ipynb.git\n",
      "  Cloning https://github.com/ipython/ipynb.git to /tmp/pip-cai0mvkd-build\n",
      "  Requirement already satisfied (use --upgrade to upgrade): ipynb==0.5 from git+https://github.com/ipython/ipynb.git in /srv/paws/lib/python3.4/site-packages\n",
      "Requirement already satisfied: pymysql in /srv/paws/lib/python3.4/site-packages\n"
     ]
    }
   ],
   "source": [
    "!pip install git+https://github.com/ipython/ipynb.git\n",
    "!pip install pymysql"
   ]
  },
  {
   "cell_type": "markdown",
   "metadata": {},
   "source": [
    "# Database-based monthly stats\n",
    "In this notebook, we'll use a database table to aggregate monthly article quality scores.  We'll be using an SQL query to do the aggregation, writing the aggregated data out to a file that can then be imported in another script for analysis.  \n",
    "\n",
    "One important note is regarding how we'll select the articles within Wikipedia that correspond to a specific WikiProject.  To do this, we'll be using a WikiProject template -- a bit of structured wikitext that WikiProjects use to tag and add metadata to articles.  This worklog shows some minor complications with using the `templatelinks` table to gather this list of articles.  https://meta.wikimedia.org/wiki/Research_talk:Quality_dynamics_of_English_Wikipedia/Work_log/2017-02-17\n",
    "\n",
    "In this notebook, we'll be using the methodology described there to find the \"main\" template and the wikiproject_aggregation query (defined in `db_monthly_stats.ipynb`) to also include all redirecting templates. "
   ]
  },
  {
   "cell_type": "code",
   "execution_count": 2,
   "metadata": {
    "collapsed": false
   },
   "outputs": [],
   "source": [
    "from ipynb.fs.full.article_quality.db_monthly_stats import DBMonthlyStats, dump_aggregation"
   ]
  },
  {
   "cell_type": "markdown",
   "metadata": {},
   "source": [
    "## Read the configuration"
   ]
  },
  {
   "cell_type": "code",
   "execution_count": 3,
   "metadata": {
    "collapsed": false
   },
   "outputs": [
    {
     "data": {
      "text/plain": [
       "['../settings.cfg']"
      ]
     },
     "execution_count": 3,
     "metadata": {},
     "output_type": "execute_result"
    }
   ],
   "source": [
    "import configparser\n",
    "config = configparser.ConfigParser()\n",
    "config.read('../settings.cfg')"
   ]
  },
  {
   "cell_type": "markdown",
   "metadata": {},
   "source": [
    "## Utility to make sure we only generate files once"
   ]
  },
  {
   "cell_type": "code",
   "execution_count": 4,
   "metadata": {
    "collapsed": true
   },
   "outputs": [],
   "source": [
    "import os\n",
    "def write_once(path, write_to):\n",
    "    if not os.path.exists(path):\n",
    "        print(\"Writing out \" + path)\n",
    "        with open(path, \"w\") as f:\n",
    "            write_to(f)\n",
    "    "
   ]
  },
  {
   "cell_type": "markdown",
   "metadata": {
    "collapsed": true
   },
   "source": [
    "## Dump the monthly aggregations"
   ]
  },
  {
   "cell_type": "code",
   "execution_count": 7,
   "metadata": {
    "collapsed": false
   },
   "outputs": [
    {
     "name": "stdout",
     "output_type": "stream",
     "text": [
      "Writing out ../data/processed/enwiki.full_wiki_aggregation.tsv\n"
     ]
    },
    {
     "ename": "TypeError",
     "evalue": "'fieldnames' is an invalid keyword argument for this function",
     "output_type": "error",
     "traceback": [
      "\u001b[0;31m---------------------------------------------------------------------------\u001b[0m",
      "\u001b[0;31mTypeError\u001b[0m                                 Traceback (most recent call last)",
      "\u001b[0;32m<ipython-input-7-b72d92e1c3ff>\u001b[0m in \u001b[0;36m<module>\u001b[0;34m()\u001b[0m\n\u001b[1;32m      3\u001b[0m write_once(\n\u001b[1;32m      4\u001b[0m     \u001b[0;34m\"../data/processed/enwiki.full_wiki_aggregation.tsv\"\u001b[0m\u001b[0;34m,\u001b[0m\u001b[0;34m\u001b[0m\u001b[0m\n\u001b[0;32m----> 5\u001b[0;31m     lambda f: dump_aggregation(dbms.all_wiki_aggregation(), f))\n\u001b[0m\u001b[1;32m      6\u001b[0m \u001b[0;34m\u001b[0m\u001b[0m\n\u001b[1;32m      7\u001b[0m write_once(\n",
      "\u001b[0;32m<ipython-input-4-18dcc2a43a2e>\u001b[0m in \u001b[0;36mwrite_once\u001b[0;34m(path, write_to)\u001b[0m\n\u001b[1;32m      4\u001b[0m         \u001b[0mprint\u001b[0m\u001b[0;34m(\u001b[0m\u001b[0;34m\"Writing out \"\u001b[0m \u001b[0;34m+\u001b[0m \u001b[0mpath\u001b[0m\u001b[0;34m)\u001b[0m\u001b[0;34m\u001b[0m\u001b[0m\n\u001b[1;32m      5\u001b[0m         \u001b[0;32mwith\u001b[0m \u001b[0mopen\u001b[0m\u001b[0;34m(\u001b[0m\u001b[0mpath\u001b[0m\u001b[0;34m,\u001b[0m \u001b[0;34m\"w\"\u001b[0m\u001b[0;34m)\u001b[0m \u001b[0;32mas\u001b[0m \u001b[0mf\u001b[0m\u001b[0;34m:\u001b[0m\u001b[0;34m\u001b[0m\u001b[0m\n\u001b[0;32m----> 6\u001b[0;31m             \u001b[0mwrite_to\u001b[0m\u001b[0;34m(\u001b[0m\u001b[0mf\u001b[0m\u001b[0;34m)\u001b[0m\u001b[0;34m\u001b[0m\u001b[0m\n\u001b[0m\u001b[1;32m      7\u001b[0m \u001b[0;34m\u001b[0m\u001b[0m\n",
      "\u001b[0;32m<ipython-input-7-b72d92e1c3ff>\u001b[0m in \u001b[0;36m<lambda>\u001b[0;34m(f)\u001b[0m\n\u001b[1;32m      3\u001b[0m write_once(\n\u001b[1;32m      4\u001b[0m     \u001b[0;34m\"../data/processed/enwiki.full_wiki_aggregation.tsv\"\u001b[0m\u001b[0;34m,\u001b[0m\u001b[0;34m\u001b[0m\u001b[0m\n\u001b[0;32m----> 5\u001b[0;31m     lambda f: dump_aggregation(dbms.all_wiki_aggregation(), f))\n\u001b[0m\u001b[1;32m      6\u001b[0m \u001b[0;34m\u001b[0m\u001b[0m\n\u001b[1;32m      7\u001b[0m write_once(\n",
      "\u001b[0;32m/home/paws/ocdx/aq-new/src/article_quality/db_monthly_stats.ipynb\u001b[0m in \u001b[0;36mdump_aggregation\u001b[0;34m(cursor, file)\u001b[0m\n\u001b[1;32m    110\u001b[0m    \u001b[0;34m\"outputs\"\u001b[0m\u001b[0;34m:\u001b[0m \u001b[0;34m[\u001b[0m\u001b[0;34m]\u001b[0m\u001b[0;34m,\u001b[0m\u001b[0;34m\u001b[0m\u001b[0m\n\u001b[1;32m    111\u001b[0m    \"source\": [\n\u001b[0;32m--> 112\u001b[0;31m     \u001b[0;34m\"class DBMonthlyStats:\\n\"\u001b[0m\u001b[0;34m,\u001b[0m\u001b[0;34m\u001b[0m\u001b[0m\n\u001b[0m\u001b[1;32m    113\u001b[0m     \u001b[0;34m\"    \\n\"\u001b[0m\u001b[0;34m,\u001b[0m\u001b[0;34m\u001b[0m\u001b[0m\n\u001b[1;32m    114\u001b[0m     \u001b[0;34m\"    def __init__(self, config):\\n\"\u001b[0m\u001b[0;34m,\u001b[0m\u001b[0;34m\u001b[0m\u001b[0m\n",
      "\u001b[0;31mTypeError\u001b[0m: 'fieldnames' is an invalid keyword argument for this function"
     ]
    }
   ],
   "source": [
    "dbms = DBMonthlyStats(config)\n",
    "\n",
    "write_once(\n",
    "    \"../data/processed/enwiki.full_wiki_aggregation.tsv\", \n",
    "    lambda f: dump_aggregation(dbms.all_wiki_aggregation(), f))\n",
    "\n",
    "write_once(\n",
    "    \"../data/processed/enwiki.wikiproject_women_scientists_aggregation.tsv\", \n",
    "    lambda f: dump_aggregation(dbms.wikiproject_aggregation(\"WikiProject_Women_scientists\"), f))\n",
    "\n",
    "write_once(\n",
    "    \"../data/processed/enwiki.wikiproject_oregon_aggregation.tsv\", \n",
    "    lambda f: dump_aggregation(dbms.wikiproject_aggregation(\"WikiProject_Oregon\"), f))"
   ]
  },
  {
   "cell_type": "code",
   "execution_count": null,
   "metadata": {
    "collapsed": true
   },
   "outputs": [],
   "source": []
  }
 ],
 "metadata": {
  "kernelspec": {
   "display_name": "Python 3",
   "language": "python",
   "name": "python3"
  },
  "language_info": {
   "codemirror_mode": {
    "name": "ipython",
    "version": 3
   },
   "file_extension": ".py",
   "mimetype": "text/x-python",
   "name": "python",
   "nbconvert_exporter": "python",
   "pygments_lexer": "ipython3",
   "version": "3.4.2"
  }
 },
 "nbformat": 4,
 "nbformat_minor": 2
}
