{
 "cells": [
  {
   "cell_type": "code",
   "execution_count": 1,
   "metadata": {
    "collapsed": false
   },
   "outputs": [
    {
     "name": "stdout",
     "output_type": "stream",
     "text": [
      "Collecting git+https://github.com/ipython/ipynb.git\n",
      "  Cloning https://github.com/ipython/ipynb.git to /tmp/pip-vmar_sfw-build\n",
      "  Requirement already satisfied (use --upgrade to upgrade): ipynb==0.5 from git+https://github.com/ipython/ipynb.git in /srv/paws/lib/python3.4/site-packages\n",
      "Requirement already satisfied: pymysql in /srv/paws/lib/python3.4/site-packages\n"
     ]
    }
   ],
   "source": [
    "!pip install git+https://github.com/ipython/ipynb.git\n",
    "!pip install pymysql"
   ]
  },
  {
   "cell_type": "markdown",
   "metadata": {},
   "source": [
    "# Database-based monthly stats\n",
    "In this notebook, we'll use a database table to aggregate monthly article quality scores.  We'll be using an SQL query to do the aggregation, writing the aggregated data out to a file that can then be imported in another script for analysis.  \n",
    "\n",
    "One important note is regarding how we'll select the articles within Wikipedia that correspond to a specific WikiProject.  To do this, we'll be using a WikiProject template -- a bit of structured wikitext that WikiProjects use to tag and add metadata to articles.  This worklog shows some minor complications with using the `templatelinks` table to gather this list of articles.  https://meta.wikimedia.org/wiki/Research_talk:Quality_dynamics_of_English_Wikipedia/Work_log/2017-02-17\n",
    "\n",
    "In this notebook, we'll be using the methodology described there to find the \"main\" template and the wikiproject_aggregation query (defined in `db_monthly_stats.ipynb`) to also include all redirecting templates. "
   ]
  },
  {
   "cell_type": "code",
   "execution_count": 2,
   "metadata": {
    "collapsed": false
   },
   "outputs": [],
   "source": [
    "from ipynb.fs.full.db_monthly_stats import all_wiki_aggregation, wikiproject_aggregation, dump_aggregation"
   ]
  },
  {
   "cell_type": "markdown",
   "metadata": {},
   "source": [
    "## Utility to make sure we only generate files once"
   ]
  },
  {
   "cell_type": "code",
   "execution_count": 5,
   "metadata": {
    "collapsed": true
   },
   "outputs": [],
   "source": [
    "def write_once(path, write_to):\n",
    "    if not os.path.exists(path):\n",
    "        print(\"Writing out \" + path)\n",
    "        with open(path, \"w\") as f:\n",
    "            write_to(f)\n",
    "    "
   ]
  },
  {
   "cell_type": "markdown",
   "metadata": {
    "collapsed": true
   },
   "source": [
    "## Dump the monthly aggregations"
   ]
  },
  {
   "cell_type": "code",
   "execution_count": 6,
   "metadata": {
    "collapsed": false
   },
   "outputs": [
    {
     "name": "stdout",
     "output_type": "stream",
     "text": [
      "Writing out enwiki.wikiproject_women_scientists_aggregation.tsv\n"
     ]
    }
   ],
   "source": [
    "import os\n",
    "\n",
    "write_once(\n",
    "    \"enwiki.full_wiki_aggregation.tsv\", \n",
    "    lambda f: dump_aggregation(all_wiki_aggregation(), f))\n",
    "\n",
    "write_once(\n",
    "    \"enwiki.wikiproject_women_scientists_aggregation.tsv\", \n",
    "    lambda f: dump_aggregation(wikiproject_aggregation(\"WikiProject_Women_scientists\"), f))\n",
    "\n",
    "write_once(\n",
    "    \"enwiki.wikiproject_oregon_aggregation.tsv\", \n",
    "    lambda f: dump_aggregation(wikiproject_aggregation(\"WikiProject_Oregon\"), f))"
   ]
  },
  {
   "cell_type": "code",
   "execution_count": null,
   "metadata": {
    "collapsed": true
   },
   "outputs": [],
   "source": []
  }
 ],
 "metadata": {
  "kernelspec": {
   "display_name": "Python 3",
   "language": "python",
   "name": "python3"
  },
  "language_info": {
   "codemirror_mode": {
    "name": "ipython",
    "version": 3
   },
   "file_extension": ".py",
   "mimetype": "text/x-python",
   "name": "python",
   "nbconvert_exporter": "python",
   "pygments_lexer": "ipython3",
   "version": "3.4.2"
  }
 },
 "nbformat": 4,
 "nbformat_minor": 2
}
