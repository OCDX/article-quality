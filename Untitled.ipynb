{
 "cells": [
  {
   "cell_type": "code",
   "execution_count": 3,
   "metadata": {
    "collapsed": false
   },
   "outputs": [
    {
     "ename": "ERROR",
     "evalue": "Error in library(JSON): there is no package called ‘JSON’\n",
     "output_type": "error",
     "traceback": [
      "Error in library(JSON): there is no package called ‘JSON’\nTraceback:\n",
      "1. library(JSON)",
      "2. stop(txt, domain = NA)"
     ]
    }
   ],
   "source": [
    "library(JSON)\n",
    "\n",
    "wsm <- read.json(\"./women-scientists.json\")"
   ]
  },
  {
   "cell_type": "code",
   "execution_count": null,
   "metadata": {
    "collapsed": true
   },
   "outputs": [],
   "source": []
  }
 ],
 "metadata": {
  "kernelspec": {
   "display_name": "R",
   "language": "R",
   "name": "ir"
  },
  "language_info": {
   "codemirror_mode": "r",
   "file_extension": ".r",
   "mimetype": "text/x-r-source",
   "name": "R",
   "pygments_lexer": "r",
   "version": "3.3.1"
  }
 },
 "nbformat": 4,
 "nbformat_minor": 1
}
