{
 "cells": [
  {
   "cell_type": "code",
   "execution_count": null,
   "metadata": {
    "collapsed": true
   },
   "outputs": [],
   "source": [
    "library(MASS)\n",
    "library(data.table)\n",
    "\n",
    "# from http://stackoverflow.com/questions/7925102/idiomatic-method-of-finding-the-median-of-an-ordinal\n",
    "median.ordered <- function(x)\n",
    "{\n",
    "    levs <- levels(x)\n",
    "    m <- median(as.integer(x))\n",
    "    if(floor(m) != m)\n",
    "    {\n",
    "      warning(\"Median is between two values; using the first one\")\n",
    "      m <- floor(m)\n",
    "    }\n",
    "    ordered(m, labels = levs, levels = seq_along(levs))\n",
    "}"
   ]
  },
  {
   "cell_type": "markdown",
   "metadata": {},
   "source": [
    "# Getting Data\n",
    "First, get the article quality scores for all Wikipedia articles."
   ]
  },
  {
   "cell_type": "code",
   "execution_count": null,
   "metadata": {
    "collapsed": false
   },
   "outputs": [],
   "source": [
    "wp.df <- fread('http://paws-public.wmflabs.org/paws-public/User:EpochFail/enwiki.monthly_wiki_quality.tsv')\n",
    "head(wp.df)"
   ]
  },
  {
   "cell_type": "markdown",
   "metadata": {},
   "source": [
    "Now get the women scientist article quality data"
   ]
  },
  {
   "cell_type": "code",
   "execution_count": null,
   "metadata": {
    "collapsed": false
   },
   "outputs": [],
   "source": [
    "ws.df <- fread('http://paws-public.wmflabs.org/paws-public/User:EpochFail/enwiki.monthly_women_scientist_quality.tsv')\n",
    "head(ws.df)"
   ]
  },
  {
   "cell_type": "markdown",
   "metadata": {},
   "source": [
    "TO DO: subtract women scientists from overall wikipedia"
   ]
  },
  {
   "cell_type": "markdown",
   "metadata": {},
   "source": [
    "Put both all-Wikipedia and only-women-scientist-articles into the same dataset\n"
   ]
  },
  {
   "cell_type": "code",
   "execution_count": null,
   "metadata": {
    "collapsed": true
   },
   "outputs": [],
   "source": [
    "wp.df$group <- \"all of Wikipedia\"\n",
    "ws.df$group <- \"just women scientist articles\"\n",
    "all.df <- rbind(wp.df, ws.df)"
   ]
  }
 ],
 "metadata": {
  "kernelspec": {
   "display_name": "R",
   "language": "R",
   "name": "ir"
  },
  "language_info": {
   "codemirror_mode": "r",
   "file_extension": ".r",
   "mimetype": "text/x-r-source",
   "name": "R",
   "pygments_lexer": "r",
   "version": "3.3.1"
  }
 },
 "nbformat": 4,
 "nbformat_minor": 1
}
