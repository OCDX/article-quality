{
 "cells": [
  {
   "cell_type": "markdown",
   "metadata": {},
   "source": [
    "# Database monthly stats\n",
    "\n",
    "This notebook contains a basic set of methods for querying monthly article quality statistics. "
   ]
  },
  {
   "cell_type": "markdown",
   "metadata": {},
   "source": [
    "## Queries\n",
    "These two queries do the basic database extraction.  `all_wiki_aggregation` query is a simple"
   ]
  },
  {
   "cell_type": "code",
   "execution_count": 2,
   "metadata": {
    "collapsed": true
   },
   "outputs": [],
   "source": [
    "all_wiki_aggregation_query = \"\"\"\n",
    "SELECT\n",
    "  timestamp AS month,\n",
    "  SUM(weighted_sum) AS weighted_sum,\n",
    "  SUM(LOG(weighted_sum)) AS weighted_log_sum,\n",
    "  SUM(prediction = \"Stub\") AS stub_n,\n",
    "  SUM(prediction = \"Start\") AS start_n,\n",
    "  SUM(prediction = \"C\") AS c_n,\n",
    "  SUM(prediction = \"B\") AS b_n,\n",
    "  SUM(prediction = \"GA\") AS ga_n,\n",
    "  SUM(prediction = \"FA\") AS fa_n,\n",
    "  COUNT(*) AS n\n",
    "FROM datasets_p.monthly_wp10_enwiki\n",
    "GROUP BY month;\n",
    "\"\"\"\n",
    "\n",
    "wikiproject_aggregation_query = \"\"\"\n",
    "SELECT\n",
    "  monthly_aq.timestamp AS month,\n",
    "  SUM(weighted_sum) AS weighted_sum,\n",
    "  SUM(LOG(weighted_sum)) AS weighted_log_sum,\n",
    "  SUM(prediction = \"Stub\") AS stub_n,\n",
    "  SUM(prediction = \"Start\") AS start_n,\n",
    "  SUM(prediction = \"C\") AS c_n,\n",
    "  SUM(prediction = \"B\") AS b_n,\n",
    "  SUM(prediction = \"GA\") AS ga_n,\n",
    "  SUM(prediction = \"FA\") AS fa_n,\n",
    "  COUNT(*) AS n\n",
    "FROM enwiki.page AS talk\n",
    "INNER JOIN enwiki.page AS article ON\n",
    "  talk.page_title = article.page_title AND\n",
    "  article.page_namespace = 0\n",
    "INNER JOIN enwiki.templatelinks USE INDEX (tl_namespace) ON\n",
    "  tl_from = talk.page_id\n",
    "INNER JOIN datasets_p.monthly_wp10_enwiki AS monthly_aq ON\n",
    "  article.page_id = monthly_aq.page_id\n",
    "WHERE\n",
    "  talk.page_namespace = 1 AND\n",
    "  tl_namespace = 10 AND\n",
    "  (\n",
    "    tl_title = %(project_template)s OR \n",
    "    tl_title IN (\n",
    "      SELECT page.page_title \n",
    "      FROM enwiki.pagelinks \n",
    "      INNER JOIN enwiki.page ON page_id = pl_from \n",
    "      WHERE \n",
    "        pl_namespace = 10 AND \n",
    "        pl_title = %(project_template)s AND \n",
    "        pl_from_namespace = 10 AND \n",
    "        page_is_redirect\n",
    "    )\n",
    "  )\n",
    "GROUP BY month;\n",
    "\"\"\""
   ]
  },
  {
   "cell_type": "markdown",
   "metadata": {},
   "source": [
    "## Database connection incantation"
   ]
  },
  {
   "cell_type": "code",
   "execution_count": 7,
   "metadata": {
    "collapsed": false
   },
   "outputs": [],
   "source": [
    "import pymysql \n",
    "\n",
    "conn = pymysql.connect(\n",
    "    host=\"labsdb-analytics.eqiad.wmnet\", read_default_file=\"~/.my.cnf\", db=\"datasets_p\")"
   ]
  },
  {
   "cell_type": "markdown",
   "metadata": {},
   "source": []
  },
  {
   "cell_type": "markdown",
   "metadata": {},
   "source": [
    "## Define functions for gathering and writing aggregated data"
   ]
  },
  {
   "cell_type": "code",
   "execution_count": 8,
   "metadata": {
    "collapsed": true
   },
   "outputs": [],
   "source": [
    "def all_wiki_aggregation():\n",
    "    \"\"\"\n",
    "    Generate a cross-wiki monthly-aggregate dataset.  \n",
    "    Returns a cursor that iterates over tuples (rows of the result set).\n",
    "    \"\"\"\n",
    "    with conn.cursor() as cursor:\n",
    "        cursor.execute(all_wiki_aggregation_query)\n",
    "        return cursor"
   ]
  },
  {
   "cell_type": "code",
   "execution_count": 9,
   "metadata": {
    "collapsed": true
   },
   "outputs": [],
   "source": [
    "def wikiproject_aggregation(project_template):\n",
    "    \"\"\"\n",
    "    Genrerate a wikiproject-specific monthly-aggregate dataset.\n",
    "    Returns a cursor that iterates over tuples (rows of the result set).\n",
    "    \"\"\"\n",
    "    with conn.cursor() as cursor:\n",
    "        cursor.execute(wikiproject_aggregation_query, \n",
    "                       {'project_template': project_template})\n",
    "        return cursor"
   ]
  },
  {
   "cell_type": "code",
   "execution_count": 10,
   "metadata": {
    "collapsed": true
   },
   "outputs": [],
   "source": [
    "import csv \n",
    "def dump_aggregation(cursor, file):\n",
    "    headers = [i[0] for i in cursor.description]\n",
    "    writer = csv.writer(file, delimiter='\\t', quoting=csv.QUOTE_NONE, fieldnames=headers)\n",
    "    writer.writeheader()\n",
    "    for row in cursor:\n",
    "        writer.writerow(row)"
   ]
  },
  {
   "cell_type": "code",
   "execution_count": null,
   "metadata": {
    "collapsed": true
   },
   "outputs": [],
   "source": []
  }
 ],
 "metadata": {
  "kernelspec": {
   "display_name": "Python 3",
   "language": "python",
   "name": "python3"
  },
  "language_info": {
   "codemirror_mode": {
    "name": "ipython",
    "version": 3
   },
   "file_extension": ".py",
   "mimetype": "text/x-python",
   "name": "python",
   "nbconvert_exporter": "python",
   "pygments_lexer": "ipython3",
   "version": "3.4.2"
  }
 },
 "nbformat": 4,
 "nbformat_minor": 2
}
